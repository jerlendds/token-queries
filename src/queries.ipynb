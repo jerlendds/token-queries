{
 "cells": [
  {
   "cell_type": "markdown",
   "id": "56289391-048a-4ff0-808a-67afb602c570",
   "metadata": {},
   "source": [
    "### Setting up DuckDB for storing the queries and web dataset"
   ]
  },
  {
   "cell_type": "code",
   "execution_count": 2,
   "id": "c9f73785-f1bb-41fa-985d-0262492c3241",
   "metadata": {},
   "outputs": [],
   "source": [
    "from typing import Generator, Any\n",
    "import duckdb\n",
    "\n",
    "DDB_PATH=\"tq.duckdb\"\n",
    "\n",
    "\n",
    "def get_db() -> Generator[Any, duckdb.DuckDBPyConnection, Any]:\n",
    "    try:\n",
    "        with duckdb.connect(DDB_PATH) as conn:\n",
    "            yield conn\n",
    "    finally:\n",
    "        conn.close()\n"
   ]
  },
  {
   "cell_type": "code",
   "execution_count": null,
   "id": "55369a45-b72c-4d82-b508-956fa12fff6a",
   "metadata": {},
   "outputs": [],
   "source": []
  }
 ],
 "metadata": {
  "kernelspec": {
   "display_name": "Python 3 (ipykernel)",
   "language": "python",
   "name": "python3"
  },
  "language_info": {
   "codemirror_mode": {
    "name": "ipython",
    "version": 3
   },
   "file_extension": ".py",
   "mimetype": "text/x-python",
   "name": "python",
   "nbconvert_exporter": "python",
   "pygments_lexer": "ipython3",
   "version": "3.13.7"
  }
 },
 "nbformat": 4,
 "nbformat_minor": 5
}
